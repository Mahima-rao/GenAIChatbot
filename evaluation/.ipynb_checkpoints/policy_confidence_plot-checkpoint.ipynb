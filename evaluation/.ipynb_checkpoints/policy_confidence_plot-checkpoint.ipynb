{
 "cells": [
  {
   "cell_type": "code",
   "execution_count": null,
   "metadata": {
    "vscode": {
     "languageId": "plaintext"
    }
   },
   "outputs": [],
   "source": [
    "#1. Load results"
   ]
  },
  {
   "cell_type": "code",
   "execution_count": null,
   "metadata": {
    "vscode": {
     "languageId": "plaintext"
    }
   },
   "outputs": [],
   "source": [
    "import json\n",
    "import matplotlib.pyplot as plt\n",
    "\n",
    "with open(\"evaluation/policy_eval_results.json\") as f:\n",
    "    results = json.load(f)\n",
    "\n",
    "confidences = [r[\"similarity\"] for r in results]\n",
    "labels = [f\"Test {i+1}\" for i in range(len(results))]\n",
    "colors = ['green' if r[\"response_ok\"] else 'red' for r in results]"
   ]
  },
  {
   "cell_type": "code",
   "execution_count": null,
   "metadata": {
    "vscode": {
     "languageId": "plaintext"
    }
   },
   "outputs": [],
   "source": [
    "# 2. Plot"
   ]
  },
  {
   "cell_type": "code",
   "execution_count": null,
   "metadata": {
    "vscode": {
     "languageId": "plaintext"
    }
   },
   "outputs": [],
   "source": [
    "plt.figure(figsize=(10, 5))\n",
    "plt.bar(labels, confidences, color=colors)\n",
    "plt.axhline(0.75, linestyle=\"--\", color=\"gray\", label=\"Confidence Threshold (0.75)\")\n",
    "plt.title(\"Policy Retrieval Confidence Scores\")\n",
    "plt.ylabel(\"Similarity\")\n",
    "plt.xlabel(\"Test Case\")\n",
    "plt.ylim(0, 1.05)\n",
    "plt.xticks(rotation=45)\n",
    "plt.legend()\n",
    "plt.tight_layout()\n",
    "plt.show()"
   ]
  }
 ],
 "metadata": {
  "language_info": {
   "name": "python"
  }
 },
 "nbformat": 4,
 "nbformat_minor": 2
}
